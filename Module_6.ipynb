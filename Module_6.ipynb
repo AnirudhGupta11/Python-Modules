{
 "cells": [
  {
   "cell_type": "code",
   "execution_count": 1,
   "id": "fc90431e-5ffc-4700-8a49-f33569badbf4",
   "metadata": {},
   "outputs": [],
   "source": [
    "# Ans 1\n",
    "\n",
    "mixed_data = [\n",
    "    \"This is a string\",  # String\n",
    "    [1, 2, 3],           # List\n",
    "    3.14,                # Float\n",
    "    (4, 5, 6)            # Tuple\n",
    "]\n"
   ]
  },
  {
   "cell_type": "code",
   "execution_count": 3,
   "id": "96e9816b-e5fe-405d-a0f2-07e0a13a247e",
   "metadata": {},
   "outputs": [
    {
     "data": {
      "text/plain": [
       "'\\n\\nAns 2 \\n\\n1. String\\n2. String \\n3. List\\n4. Float\\n\\n'"
      ]
     },
     "execution_count": 3,
     "metadata": {},
     "output_type": "execute_result"
    }
   ],
   "source": [
    "'''\n",
    "\n",
    "Ans 2 \n",
    "\n",
    "1. String\n",
    "2. String \n",
    "3. List\n",
    "4. Float\n",
    "\n",
    "'''"
   ]
  },
  {
   "cell_type": "code",
   "execution_count": 5,
   "id": "07b20b6e-fad5-457d-aa11-3266c934f3a2",
   "metadata": {},
   "outputs": [
    {
     "name": "stdout",
     "output_type": "stream",
     "text": [
      "3.3333333333333335\n",
      "1\n",
      "3\n",
      "8\n"
     ]
    }
   ],
   "source": [
    "# Ans 3\n",
    "\n",
    "# 1.(Division Operator):Divides the left-hand operand by the right-hand operand and returns the result as a floating-point number.\n",
    "\n",
    "result = 10 / 3\n",
    "print(result) \n",
    "\n",
    "# 2.(Modulus Operator):Returns the remainder of the division between the left-hand and right-hand operands.\n",
    "\n",
    "remainder = 10 % 3\n",
    "print(remainder) \n",
    "\n",
    "# 3.(Floor Division Operator):Divides the left-hand operand by the right-hand operand, then rounds down (floors) the result to the nearest whole number.\n",
    "\n",
    "floor_result = 10 // 3\n",
    "print(floor_result)\n",
    "\n",
    "# 4.** (Exponentiation Operator):Raises the left-hand operand to the power of the right-hand operand.\n",
    "\n",
    "power_result = 2 ** 3\n",
    "print(power_result)\n"
   ]
  },
  {
   "cell_type": "code",
   "execution_count": 7,
   "id": "0a301270-46bb-47b9-8514-ff0e3bdfb416",
   "metadata": {},
   "outputs": [
    {
     "name": "stdout",
     "output_type": "stream",
     "text": [
      "Element: 42, Data Type: <class 'int'>\n",
      "Element: Hello, Data Type: <class 'str'>\n",
      "Element: 3.14, Data Type: <class 'float'>\n",
      "Element: True, Data Type: <class 'bool'>\n",
      "Element: [1, 2, 3], Data Type: <class 'list'>\n",
      "Element: (4, 5), Data Type: <class 'tuple'>\n",
      "Element: {'key': 'value'}, Data Type: <class 'dict'>\n",
      "Element: None, Data Type: <class 'NoneType'>\n",
      "Element: (2+3j), Data Type: <class 'complex'>\n",
      "Element: b'byte', Data Type: <class 'bytes'>\n"
     ]
    }
   ],
   "source": [
    "# Ans 4\n",
    "\n",
    "# List with multiple data types\n",
    "mylist = [42, \"Hello\", 3.14, True, [1, 2, 3], (4, 5), {\"key\": \"value\"}, None, complex(2, 3), b'byte']\n",
    "\n",
    "# Using a for loop to print each element and its data type\n",
    "for element in mylist:\n",
    "    print(f\"Element: {element}, Data Type: {type(element)}\")\n"
   ]
  },
  {
   "cell_type": "code",
   "execution_count": 9,
   "id": "78c9b986-5e8e-45cc-af17-1e1ad2a67ab3",
   "metadata": {},
   "outputs": [
    {
     "name": "stdout",
     "output_type": "stream",
     "text": [
      "The number can be divided 4 times.\n"
     ]
    }
   ],
   "source": [
    "# Ans 5\n",
    "\n",
    "\n",
    "A = 48  # Example number\n",
    "B = 2   # Example divisor\n",
    "\n",
    "# Initialize a counter\n",
    "count = 0\n",
    "\n",
    "# Use a while loop to divide A by B as long as it is divisible\n",
    "while A % B == 0:\n",
    "    A = A // B  # Perform floor division\n",
    "    count += 1  # Increment the counter\n",
    "\n",
    "# Output the result\n",
    "if count > 0:\n",
    "    print(f\"The number can be divided {count} times.\")\n",
    "else:\n",
    "    print(\"The number is not divisible by the divisor.\")\n"
   ]
  },
  {
   "cell_type": "code",
   "execution_count": 11,
   "id": "ef185cd1-0e8b-4dc6-9f9d-f03c8c076332",
   "metadata": {},
   "outputs": [
    {
     "name": "stdout",
     "output_type": "stream",
     "text": [
      "1 is not divisible by 3.\n",
      "2 is not divisible by 3.\n",
      "3 is divisible by 3.\n",
      "4 is not divisible by 3.\n",
      "5 is not divisible by 3.\n",
      "6 is divisible by 3.\n",
      "7 is not divisible by 3.\n",
      "8 is not divisible by 3.\n",
      "9 is divisible by 3.\n",
      "10 is not divisible by 3.\n",
      "11 is not divisible by 3.\n",
      "12 is divisible by 3.\n",
      "13 is not divisible by 3.\n",
      "14 is not divisible by 3.\n",
      "15 is divisible by 3.\n",
      "16 is not divisible by 3.\n",
      "17 is not divisible by 3.\n",
      "18 is divisible by 3.\n",
      "19 is not divisible by 3.\n",
      "20 is not divisible by 3.\n",
      "21 is divisible by 3.\n",
      "22 is not divisible by 3.\n",
      "23 is not divisible by 3.\n",
      "24 is divisible by 3.\n",
      "25 is not divisible by 3.\n"
     ]
    }
   ],
   "source": [
    "# Ans 6\n",
    "\n",
    "# List of 25 integers\n",
    "int_list = [i for i in range(1, 26)]  # Creates a list [1, 2, 3, ..., 25]\n",
    "\n",
    "# Loop through the list and check divisibility by 3\n",
    "for num in int_list:\n",
    "    if num % 3 == 0:\n",
    "        print(f\"{num} is divisible by 3.\")\n",
    "    else:\n",
    "        print(f\"{num} is not divisible by 3.\")\n",
    "\n"
   ]
  },
  {
   "cell_type": "code",
   "execution_count": 13,
   "id": "760f58bf-f6e2-4e58-87a5-53940abbd3f7",
   "metadata": {},
   "outputs": [
    {
     "name": "stdout",
     "output_type": "stream",
     "text": [
      "Original List: [1, 2, 3]\n",
      "Modified List: [10, 2, 3]\n",
      "ID of List: 2154283046400\n",
      "Original String: Hello\n",
      "Modified String: Jello\n",
      "ID of Original String: 2154282808880\n",
      "ID of New String: 2154320075232\n"
     ]
    }
   ],
   "source": [
    "# ANS 7\n",
    "\n",
    "'''\n",
    "Mutable Data Types: Mutable objects can be modified after they are created.\n",
    "This means their content or state can change without changing their identity.\n",
    "Examples: Lists, dictionaries, sets, and user-defined objects\n",
    "'''\n",
    "# Mutable Example\n",
    "my_list = [1, 2, 3]\n",
    "print(\"Original List:\", my_list)\n",
    "\n",
    "# Modify the list\n",
    "my_list[0] = 10\n",
    "print(\"Modified List:\", my_list)\n",
    "\n",
    "# Identity remains the same\n",
    "print(\"ID of List:\", id(my_list))\n",
    "\n",
    "'''\n",
    "Immutable Data Types:Immutable objects cannot be modified after they are created.\n",
    "Any operation that attempts to modify an immutable object results in the creation of a new object.\n",
    "Examples: Strings, tuples, integers, floats, and booleans.\n",
    "'''\n",
    "\n",
    "# Immutable Example\n",
    "my_string = \"Hello\"\n",
    "print(\"Original String:\", my_string)\n",
    "\n",
    "# Attempt to modify the string\n",
    "new_string = my_string.replace(\"H\", \"J\")\n",
    "print(\"Modified String:\", new_string)\n",
    "\n",
    "# Identity of original string remains unchanged\n",
    "print(\"ID of Original String:\", id(my_string))\n",
    "print(\"ID of New String:\", id(new_string))\n"
   ]
  },
  {
   "cell_type": "code",
   "execution_count": null,
   "id": "026f4ef4-0e6f-404f-ad1c-e007e9fc5744",
   "metadata": {},
   "outputs": [],
   "source": []
  }
 ],
 "metadata": {
  "kernelspec": {
   "display_name": "Python 3 (ipykernel)",
   "language": "python",
   "name": "python3"
  },
  "language_info": {
   "codemirror_mode": {
    "name": "ipython",
    "version": 3
   },
   "file_extension": ".py",
   "mimetype": "text/x-python",
   "name": "python",
   "nbconvert_exporter": "python",
   "pygments_lexer": "ipython3",
   "version": "3.12.7"
  }
 },
 "nbformat": 4,
 "nbformat_minor": 5
}
